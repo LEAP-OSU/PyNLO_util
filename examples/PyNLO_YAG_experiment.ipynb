{
 "cells": [
  {
   "cell_type": "markdown",
   "id": "76f9ec4c",
   "metadata": {},
   "source": [
    "### PyNLO "
   ]
  },
  {
   "cell_type": "markdown",
   "id": "e0fdeafc",
   "metadata": {},
   "source": [
    "### Calculating Dispersion Parametrs from Sellmeier Formula: YAG\n",
    "\n",
    "PyNLO asks for \"beta\" parameters when instantiating the fiber object. These beta parameters are the disperion coefficients of the\n",
    "YAG plate (or fiber). These values can be calculated from the sellmeier equation.  \n",
    "\n",
    "Sellmeier equation (from Zelmon et al. @ refractive index .com):\n",
    "\n",
    "$n(\\lambda) = [1 + \\frac{2.282 \\lambda^2}{\\lambda^2 - 0.01185} + \\frac{3.27644 \\lambda^2}{\\lambda^2 - 282.734}]^{\\frac{1}{2}}$\n",
    "\n",
    "Propagation constant:\n",
    "\n",
    "$\\beta(\\omega) = \\frac{n(\\lambda(\\omega))\\omega}{c}$\n",
    "\n",
    "Dispersion coefficients:\n",
    "\n",
    "$\\beta_{m} = \\frac{d^m\\beta}{d\\omega^m}|_{\\omega_{0}}$\n",
    "\n",
    "For simulation in PyNLO we are interested in $\\beta_{2}, \\beta_{3}, \\beta_{4}$\n",
    "\n",
    "\n"
   ]
  },
  {
   "cell_type": "markdown",
   "id": "21ad366d",
   "metadata": {},
   "source": [
    "### Calculating Peak Power for a Guassian Pulse\n",
    "\n",
    "PyNLO will use a peak power parameter when instantiating a pulse (also accepts an average power parameter). For this analysis a guassian pulse is used. The peak power of a guassian pulse can be calculated with:\n",
    "\n",
    "$P_{0} = \\frac{0.94 E_{pulse}}{\\Delta t_{fwhm}}$"
   ]
  },
  {
   "cell_type": "markdown",
   "id": "922b5b98",
   "metadata": {},
   "source": [
    "### Calculating Effective Nonlinear Coefficient\n",
    "\n",
    "PyNLO will require a gamma value when instantiating a fiber. This value is the \"Effective Nonlinear Coefficient\". Not sure what this is used for.\n",
    "\n",
    "$\\gamma = \\frac{2 \\pi n_{2}}{\\lambda A_{eff}}$\n",
    "\n",
    "Since the objective is to simulate something similar to OPA -> Bulk YAG, I made the effective area not that of a typical fiber, but of the cross sectional area of the beam at the focus (where the YAG plate would be for the 0mm position in Hemmer et al.). I am not sure if this is something that is valid to do but seemed like the most reasonable thing to do for initial sims."
   ]
  }
 ],
 "metadata": {
  "kernelspec": {
   "display_name": "myenv",
   "language": "python",
   "name": "python3"
  },
  "language_info": {
   "codemirror_mode": {
    "name": "ipython",
    "version": 2
   },
   "file_extension": ".py",
   "mimetype": "text/x-python",
   "name": "python",
   "nbconvert_exporter": "python",
   "pygments_lexer": "ipython2",
   "version": "2.7.18"
  }
 },
 "nbformat": 4,
 "nbformat_minor": 5
}
