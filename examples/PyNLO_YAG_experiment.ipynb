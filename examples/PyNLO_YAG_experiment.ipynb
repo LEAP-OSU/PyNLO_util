{
 "cells": [
  {
   "cell_type": "code",
   "execution_count": 2,
   "id": "4ba89389",
   "metadata": {},
   "outputs": [],
   "source": [
    "import sys\n",
    "import os\n",
    "\n",
    "# Option 1: Use a direct path (most reliable)\n",
    "notebook_dir = os.path.dirname(os.path.abspath(''))  # Current working directory\n",
    "sys.path.append(os.path.abspath(os.path.join(notebook_dir, '..')))"
   ]
  },
  {
   "cell_type": "markdown",
   "id": "76f9ec4c",
   "metadata": {},
   "source": [
    "## PyNLO Material Considerations (YAG)"
   ]
  },
  {
   "cell_type": "markdown",
   "id": "e0fdeafc",
   "metadata": {},
   "source": [
    "### Dispersion Coefficients\n",
    "\n",
    "PyNLO asks for the disperion coefficients of the YAG plate (or fiber). These values can be calculated from the sellmeier equation.\n",
    "\n",
    "Sellmeier equation (from Zelmon et al. @ refractive index .com):\n",
    "\n",
    "$n(\\lambda) = [1 + \\frac{2.282 \\lambda^2}{\\lambda^2 - 0.01185} + \\frac{3.27644 \\lambda^2}{\\lambda^2 - 282.734}]^{\\frac{1}{2}}$\n",
    "\n",
    "Propagation constant:\n",
    "\n",
    "$\\beta(\\omega) = \\frac{n(\\lambda(\\omega))\\omega}{c}$\n",
    "\n",
    "Dispersion coefficients:\n",
    "\n",
    "$\\beta_{m} = \\frac{d^m\\beta}{d\\omega^m}|_{\\omega_{0}}$\n",
    "\n",
    "For simulation in PyNLO we are interested in $\\beta_{2}, \\beta_{3}, \\beta_{4}$. These values are calculated numerically to be:\n",
    "\n",
    "$\\beta_{2} = -408.15 (ps^2/km)$\n",
    "\n",
    "$\\beta_{3} = 2.54 (ps^3/km)$\n",
    "\n",
    "$\\beta_{4} = -0.02 (ps^4/km)$\n",
    "\n",
    "The second order dispersion coefficient has good agreement with whats available on refractiveindex.com so its assumed the other two are valid as well."
   ]
  },
  {
   "cell_type": "markdown",
   "id": "21ad366d",
   "metadata": {},
   "source": [
    "### Calculating Peak Power for a Guassian Pulse\n",
    "\n",
    "PyNLO will use a peak power parameter when instantiating a pulse (also accepts an average power parameter). For this analysis a guassian pulse is used. The peak power of a guassian pulse can be calculated with:\n",
    "\n",
    "$P_{0} = \\frac{0.94 E_{pulse}}{\\Delta t_{fwhm}}$\n",
    "\n",
    "This function argument actually does not really matter because once you set the pulse energy is recalculates it automatically."
   ]
  },
  {
   "cell_type": "markdown",
   "id": "922b5b98",
   "metadata": {},
   "source": [
    "### Calculating Effective Nonlinear Coefficient\n",
    "\n",
    "PyNLO will require the effective nonlinearity of the material.\n",
    "\n",
    "$\\gamma = \\frac{2 \\pi n_{2}}{\\lambda A_{eff}}$\n",
    "\n",
    "Since the objective is to simulate something similar to OPA -> Bulk YAG, I made the effective area not that of a typical fiber, but of the cross sectional area of the beam at the entry face of the material. For example if I am considering a YAG plate at the focus of a beam, I would use the beam waist in the area calculation and assume a circular cross section. If you are doing a tru fiber simulation, and not the crude sim im attempting, you would use the the actual fiber area. Below I have graphed beam radius and gamma as a function of distance from the focus:\n",
    "\n",
    "<img src=\"../figures/beam_radius_nonlinearity.png\" alt=\"Beam radius and nonlinearity versus distance from focus\" width=\"1200\"/>\n",
    "\n",
    "$\\gamma_{0mm} = 1.548 * 10^{-5}  (1/Wm)$\n",
    "\n",
    "$\\gamma_{0.5mm} = 1.490 * 10^{-5}  (1/Wm)$\n",
    "\n",
    "$\\gamma_{1.0mm} = 1.340 * 10^{-5}  (1/Wm)$\n",
    "\n",
    "$\\gamma_{1.5mm} = 1.147 * 10^{-5}  (1/Wm)$\n",
    "\n",
    "$\\gamma_{2.0mm} = 0.954 * 10^{-5}  (1/Wm)$\n",
    "\n",
    "$\\gamma_{2.5mm} = 0.785 * 10^{-5}  (1/Wm)$\n",
    "\n",
    "$\\gamma_{3.0mm} = 0.645 * 10^{-5}  (1/Wm)$"
   ]
  },
  {
   "cell_type": "markdown",
   "id": "f620ce0a",
   "metadata": {},
   "source": [
    "At this point all of the other parameters depend on what is trying to simulate. For example one will define their pulse based on whatever system they are using etc."
   ]
  }
 ],
 "metadata": {
  "kernelspec": {
   "display_name": "base",
   "language": "python",
   "name": "python3"
  },
  "language_info": {
   "codemirror_mode": {
    "name": "ipython",
    "version": 3
   },
   "file_extension": ".py",
   "mimetype": "text/x-python",
   "name": "python",
   "nbconvert_exporter": "python",
   "pygments_lexer": "ipython3",
   "version": "3.11.5"
  }
 },
 "nbformat": 4,
 "nbformat_minor": 5
}
