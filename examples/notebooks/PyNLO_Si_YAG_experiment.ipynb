{
 "cells": [
  {
   "cell_type": "markdown",
   "id": "71c9ea23",
   "metadata": {},
   "source": [
    "### Input Pulse Characterization (Lu et al.)\n",
    "\n",
    "paper: https://opg.optica.org/ol/fulltext.cfm?uri=ol-43-11-2720&id=390070\n",
    "\n",
    "$E_{pulse} = 120$ (uJ)\n",
    "\n",
    "$\\lambda_{0} = 3.5$ (um)\n",
    "\n",
    "$\\Delta t _{FWHM} = 120$ (fs)\n",
    "\n",
    "<img src=\"../figures/Lu_input_pulse.png\" alt=\"Pulse Duration Comparison\" width=\"600\"/>\n",
    "\n",
    "### Experimental Setup\n",
    "\n",
    "<img src=\"../figures/Lu_experimental_setup.png\" alt=\"Pulse Duration Comparison\" width=\"600\"/>\n",
    "\n",
    "$z_{R} = 0.5$ (mm)\n",
    "\n",
    "$\\omega_{0} = 31$ (um), This was measured in the paper\n",
    "\n",
    "$\\Delta z_{Si,1} = -73$ (mm)\n",
    "\n",
    "$\\Delta z_{YAG} = +5$ (mm)\n",
    "\n",
    "$\\Delta z_{Si,2} = +87$ (mm)\n",
    "\n",
    "$\\omega_{Si,1} = \\omega_{0}[1 + (\\frac{\\Delta z_{Si,1}}{z_{R}})^2]^{1/2} = 3445.7$ (um)\n",
    "\n",
    "$\\omega_{YAG} = 237.18$ (um)\n",
    "\n",
    "$\\omega_{Si,2} = 4106.5$ (um)\n",
    "\n",
    "$P_{max} = 0.94 \\frac{E_{pulse}}{\\Delta t_{FWHM}} = 0.94$ (GW)\n",
    "\n",
    "Ignoring Fresnel losses, we can estimate the intensity at the face of each plate.\n",
    "\n",
    "$I_{Si,1} = \\frac{P_{max}}{A} = \\frac{P_{max}}{\\pi \\omega_{Si,1}^2} = $\n",
    "\n"
   ]
  },
  {
   "cell_type": "markdown",
   "id": "fcb71bc3",
   "metadata": {},
   "source": []
  }
 ],
 "metadata": {
  "language_info": {
   "name": "python"
  }
 },
 "nbformat": 4,
 "nbformat_minor": 5
}
